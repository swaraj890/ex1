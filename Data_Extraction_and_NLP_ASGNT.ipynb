{
  "nbformat": 4,
  "nbformat_minor": 0,
  "metadata": {
    "colab": {
      "provenance": [],
      "authorship_tag": "ABX9TyMH0ffu53LqF7LriIs42QXh",
      "include_colab_link": true
    },
    "kernelspec": {
      "name": "python3",
      "display_name": "Python 3"
    },
    "language_info": {
      "name": "python"
    }
  },
  "cells": [
    {
      "cell_type": "markdown",
      "metadata": {
        "id": "view-in-github",
        "colab_type": "text"
      },
      "source": [
        "<a href=\"https://colab.research.google.com/github/swaraj890/ex1/blob/main/Data_Extraction_and_NLP_ASGNT.ipynb\" target=\"_parent\"><img src=\"https://colab.research.google.com/assets/colab-badge.svg\" alt=\"Open In Colab\"/></a>"
      ]
    },
    {
      "cell_type": "code",
      "source": [
        "!pip install datetime\n",
        "import datetime"
      ],
      "metadata": {
        "colab": {
          "base_uri": "https://localhost:8080/"
        },
        "id": "8skVuq12Id8Y",
        "outputId": "f3d90ae3-3edc-44bc-a217-693b8daa393f"
      },
      "execution_count": 9,
      "outputs": [
        {
          "output_type": "stream",
          "name": "stdout",
          "text": [
            "Collecting datetime\n",
            "  Downloading DateTime-5.4-py3-none-any.whl (52 kB)\n",
            "\u001b[2K     \u001b[90m━━━━━━━━━━━━━━━━━━━━━━━━━━━━━━━━━━━━━━━━\u001b[0m \u001b[32m52.5/52.5 kB\u001b[0m \u001b[31m1.7 MB/s\u001b[0m eta \u001b[36m0:00:00\u001b[0m\n",
            "\u001b[?25hCollecting zope.interface (from datetime)\n",
            "  Downloading zope.interface-6.2-cp310-cp310-manylinux_2_5_x86_64.manylinux1_x86_64.manylinux_2_17_x86_64.manylinux2014_x86_64.whl (247 kB)\n",
            "\u001b[2K     \u001b[90m━━━━━━━━━━━━━━━━━━━━━━━━━━━━━━━━━━━━━━━━\u001b[0m \u001b[32m247.3/247.3 kB\u001b[0m \u001b[31m7.3 MB/s\u001b[0m eta \u001b[36m0:00:00\u001b[0m\n",
            "\u001b[?25hRequirement already satisfied: pytz in /usr/local/lib/python3.10/dist-packages (from datetime) (2023.4)\n",
            "Requirement already satisfied: setuptools in /usr/local/lib/python3.10/dist-packages (from zope.interface->datetime) (67.7.2)\n",
            "Installing collected packages: zope.interface, datetime\n",
            "Successfully installed datetime-5.4 zope.interface-6.2\n"
          ]
        }
      ]
    },
    {
      "cell_type": "code",
      "source": [
        "import pandas as pd"
      ],
      "metadata": {
        "id": "uWe7YF6VJrSv"
      },
      "execution_count": 13,
      "outputs": []
    },
    {
      "cell_type": "code",
      "source": [
        "import csv\n",
        "from datetime import datetime, timedelta\n",
        "\n",
        "# Function to parse date strings into datetime objects\n",
        "def parse_date(date_str):\n",
        "    if date_str:\n",
        "        return datetime.strptime(date_str, '%Y-%m-%d')\n",
        "    else:\n",
        "        return None\n",
        "\n",
        "# Read the input CSV file\n",
        "input_file = '/content/input (1).csv'\n",
        "output_file = '/content/output.csv'\n",
        "\n",
        "employee_records = {}\n",
        "\n",
        "with open(input_file, newline='') as csvfile:\n",
        "    reader = csv.DictReader(csvfile)\n",
        "    for row in reader:\n",
        "        employee_code = row['Employee Code']\n",
        "        if employee_code not in employee_records:\n",
        "            employee_records[employee_code] = {\n",
        "                'Employee Code': employee_code,\n",
        "                'Manager Employee Code': row['Manager Employee Code'],\n",
        "                'Compensation': [],\n",
        "                'Review': [],\n",
        "                'Engagement': []\n",
        "            }\n",
        "\n",
        "        # Add compensation data\n",
        "        compensation = {\n",
        "            'Compensation 1': row['Compensation 1'],\n",
        "            'Compensation 1 date': parse_date(row['Compensation 1 date']),\n",
        "            'Compensation 2': row['Compensation 2'],\n",
        "            'Compensation 2 date': parse_date(row['Compensation 2 date'])\n",
        "        }\n",
        "        employee_records[employee_code]['Compensation'].append(compensation)\n",
        "\n",
        "        # Add review data\n",
        "        review = {\n",
        "            'Review 1': row['Review 1'],\n",
        "            'Review 1 date': parse_date(row['Review 1 date']),\n",
        "            'Review 2': row['Review 2'],\n",
        "            'Review 2 date': parse_date(row['Review 2 date'])\n",
        "        }\n",
        "        employee_records[employee_code]['Review'].append(review)\n",
        "\n",
        "        # Add engagement data\n",
        "        engagement = {\n",
        "            'Engagement 1': row['Engagement 1'],\n",
        "            'Engagement 1 date': parse_date(row['Engagement 1 date']),\n",
        "            'Engagement 2': row['Engagement 2'],\n",
        "            'Engagement 2 date': parse_date(row['Engagement 2 date'])\n",
        "        }\n",
        "        employee_records[employee_code]['Engagement'].append(engagement)\n",
        "\n",
        "# Write the transformed data to the output CSV file\n",
        "with open(output_file, 'w', newline='') as csvfile:\n",
        "    fieldnames = ['Employee Code', 'Manager Employee Code', 'Last Compensation', 'Compensation',\n",
        "                  'Last Pay Raise Date', 'Variable Pay', 'Tenure in Org', 'Performance Rating',\n",
        "                  'Engagement Score', 'Effective Date', 'End Date']\n",
        "    writer = csv.DictWriter(csvfile, fieldnames=fieldnames)\n",
        "    writer.writeheader()\n",
        "\n",
        "    for employee_code, records in employee_records.items():\n",
        "        for i in range(len(records['Compensation'])):\n",
        "            effective_date = records['Compensation'][i]['Compensation 1 date']\n",
        "            end_date = records['Compensation'][i + 1]['Compensation 1 date'] - timedelta(days=1) if i < len(\n",
        "                records['Compensation']) - 1 else datetime(2100, 1, 1)\n",
        "\n",
        "            effective_date_str = effective_date.strftime('%Y-%m-%d') if effective_date else None\n",
        "            end_date_str = end_date.strftime('%Y-%m-%d')\n",
        "\n",
        "            writer.writerow({\n",
        "                'Employee Code': employee_code,\n",
        "                'Manager Employee Code': records['Manager Employee Code'],\n",
        "                'Last Compensation': records['Compensation'][i]['Compensation 1'],\n",
        "                'Compensation': records['Compensation'][i]['Compensation 2'],\n",
        "                'Last Pay Raise Date': records['Compensation'][i]['Compensation 2 date'],\n",
        "                'Variable Pay': None,\n",
        "                'Tenure in Org': None,\n",
        "                'Performance Rating': records['Review'][i]['Review 2'],\n",
        "                'Engagement Score': records['Engagement'][i]['Engagement 2'],\n",
        "                'Effective Date': effective_date_str,\n",
        "                'End Date': end_date_str\n",
        "            })\n",
        "\n"
      ],
      "metadata": {
        "id": "R-cBagyvIN1P"
      },
      "execution_count": 14,
      "outputs": []
    },
    {
      "cell_type": "code",
      "source": [],
      "metadata": {
        "id": "J03gUmsXKnR-"
      },
      "execution_count": null,
      "outputs": []
    },
    {
      "cell_type": "code",
      "source": [],
      "metadata": {
        "id": "X8aGwyZAKnhO"
      },
      "execution_count": null,
      "outputs": []
    }
  ]
}